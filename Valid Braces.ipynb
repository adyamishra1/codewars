{
 "cells": [
  {
   "cell_type": "code",
   "execution_count": 37,
   "id": "e9a00f0f",
   "metadata": {},
   "outputs": [],
   "source": [
    "def validBraces(string):\n",
    "    for i in string:\n",
    "        print (\"(\" and \")\" in string)"
   ]
  },
  {
   "cell_type": "code",
   "execution_count": 40,
   "id": "b88df9f2",
   "metadata": {},
   "outputs": [
    {
     "name": "stdout",
     "output_type": "stream",
     "text": [
      "False\n",
      "False\n",
      "False\n"
     ]
    }
   ],
   "source": [
    "validBraces(\"(][\")"
   ]
  },
  {
   "cell_type": "code",
   "execution_count": 34,
   "id": "677659e9",
   "metadata": {},
   "outputs": [
    {
     "data": {
      "text/plain": [
       "0"
      ]
     },
     "execution_count": 34,
     "metadata": {},
     "output_type": "execute_result"
    }
   ],
   "source": [
    "def leet(nums, target)\n",
    "    for i in nums:\n",
    "        if"
   ]
  }
 ],
 "metadata": {
  "kernelspec": {
   "display_name": "Python 3",
   "language": "python",
   "name": "python3"
  },
  "language_info": {
   "codemirror_mode": {
    "name": "ipython",
    "version": 3
   },
   "file_extension": ".py",
   "mimetype": "text/x-python",
   "name": "python",
   "nbconvert_exporter": "python",
   "pygments_lexer": "ipython3",
   "version": "3.8.8"
  }
 },
 "nbformat": 4,
 "nbformat_minor": 5
}
